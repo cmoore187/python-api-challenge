{
 "cells": [
  {
   "cell_type": "code",
   "execution_count": 1,
   "metadata": {},
   "outputs": [],
   "source": [
    "# Dependencies and Setup\n",
    "import matplotlib.pyplot as plt\n",
    "import pandas as pd\n",
    "import numpy as np\n",
    "import requests\n",
    "import gmaps\n",
    "import os\n",
    "import json\n",
    "import requests\n",
    "from config import g_key\n",
    "\n"
   ]
  },
  {
   "cell_type": "markdown",
   "metadata": {},
   "source": [
    "Store Part I results into DataFrame\n",
    "\n",
    "Load the csv exported in Part I to a DataFrame"
   ]
  },
  {
   "cell_type": "code",
   "execution_count": 2,
   "metadata": {},
   "outputs": [
    {
     "data": {
      "text/html": [
       "<div>\n",
       "<style scoped>\n",
       "    .dataframe tbody tr th:only-of-type {\n",
       "        vertical-align: middle;\n",
       "    }\n",
       "\n",
       "    .dataframe tbody tr th {\n",
       "        vertical-align: top;\n",
       "    }\n",
       "\n",
       "    .dataframe thead th {\n",
       "        text-align: right;\n",
       "    }\n",
       "</style>\n",
       "<table border=\"1\" class=\"dataframe\">\n",
       "  <thead>\n",
       "    <tr style=\"text-align: right;\">\n",
       "      <th></th>\n",
       "      <th>city</th>\n",
       "      <th>lat</th>\n",
       "      <th>lng</th>\n",
       "      <th>temp</th>\n",
       "      <th>humidity</th>\n",
       "      <th>wind</th>\n",
       "      <th>cloudiness</th>\n",
       "      <th>country</th>\n",
       "      <th>date</th>\n",
       "    </tr>\n",
       "  </thead>\n",
       "  <tbody>\n",
       "    <tr>\n",
       "      <th>0</th>\n",
       "      <td>christchurch</td>\n",
       "      <td>-43.5333</td>\n",
       "      <td>172.6333</td>\n",
       "      <td>38.03</td>\n",
       "      <td>100</td>\n",
       "      <td>2.30</td>\n",
       "      <td>2</td>\n",
       "      <td>NZ</td>\n",
       "      <td>Wed Jun  2 15:36:14 2021</td>\n",
       "    </tr>\n",
       "    <tr>\n",
       "      <th>1</th>\n",
       "      <td>richards bay</td>\n",
       "      <td>-28.7830</td>\n",
       "      <td>32.0377</td>\n",
       "      <td>61.05</td>\n",
       "      <td>80</td>\n",
       "      <td>6.42</td>\n",
       "      <td>1</td>\n",
       "      <td>ZA</td>\n",
       "      <td>Wed Jun  2 15:25:42 2021</td>\n",
       "    </tr>\n",
       "    <tr>\n",
       "      <th>2</th>\n",
       "      <td>bredasdorp</td>\n",
       "      <td>-34.5322</td>\n",
       "      <td>20.0403</td>\n",
       "      <td>55.27</td>\n",
       "      <td>94</td>\n",
       "      <td>8.08</td>\n",
       "      <td>31</td>\n",
       "      <td>ZA</td>\n",
       "      <td>Wed Jun  2 15:36:16 2021</td>\n",
       "    </tr>\n",
       "    <tr>\n",
       "      <th>3</th>\n",
       "      <td>hithadhoo</td>\n",
       "      <td>-0.6000</td>\n",
       "      <td>73.0833</td>\n",
       "      <td>83.71</td>\n",
       "      <td>68</td>\n",
       "      <td>16.71</td>\n",
       "      <td>99</td>\n",
       "      <td>MV</td>\n",
       "      <td>Wed Jun  2 15:36:17 2021</td>\n",
       "    </tr>\n",
       "    <tr>\n",
       "      <th>4</th>\n",
       "      <td>vaini</td>\n",
       "      <td>-21.2000</td>\n",
       "      <td>-175.2000</td>\n",
       "      <td>69.96</td>\n",
       "      <td>83</td>\n",
       "      <td>2.30</td>\n",
       "      <td>75</td>\n",
       "      <td>TO</td>\n",
       "      <td>Wed Jun  2 15:36:18 2021</td>\n",
       "    </tr>\n",
       "  </tbody>\n",
       "</table>\n",
       "</div>"
      ],
      "text/plain": [
       "           city      lat       lng   temp  humidity   wind  cloudiness  \\\n",
       "0  christchurch -43.5333  172.6333  38.03       100   2.30           2   \n",
       "1  richards bay -28.7830   32.0377  61.05        80   6.42           1   \n",
       "2    bredasdorp -34.5322   20.0403  55.27        94   8.08          31   \n",
       "3     hithadhoo  -0.6000   73.0833  83.71        68  16.71          99   \n",
       "4         vaini -21.2000 -175.2000  69.96        83   2.30          75   \n",
       "\n",
       "  country                      date  \n",
       "0      NZ  Wed Jun  2 15:36:14 2021  \n",
       "1      ZA  Wed Jun  2 15:25:42 2021  \n",
       "2      ZA  Wed Jun  2 15:36:16 2021  \n",
       "3      MV  Wed Jun  2 15:36:17 2021  \n",
       "4      TO  Wed Jun  2 15:36:18 2021  "
      ]
     },
     "execution_count": 2,
     "metadata": {},
     "output_type": "execute_result"
    }
   ],
   "source": [
    "#load csv to dataframe\n",
    "df = pd.read_csv('../../output_data/city_data.csv').drop(columns='Unnamed: 0')\n",
    "df.head()"
   ]
  },
  {
   "cell_type": "markdown",
   "metadata": {},
   "source": [
    " Humidity Heatmap\n",
    "\n",
    "Configure gmaps.\n",
    "Use the Lat and Lng as locations and Humidity as the weight.\n",
    "Add Heatmap layer to map."
   ]
  },
  {
   "cell_type": "code",
   "execution_count": 3,
   "metadata": {},
   "outputs": [
    {
     "data": {
      "application/vnd.jupyter.widget-view+json": {
       "model_id": "9a4490d7a8c841e2bfccddc84488027b",
       "version_major": 2,
       "version_minor": 0
      },
      "text/plain": [
       "Figure(layout=FigureLayout(height='420px'))"
      ]
     },
     "metadata": {},
     "output_type": "display_data"
    }
   ],
   "source": [
    "#configure\n",
    "gmaps.configure(api_key=g_key)\n",
    "\n",
    "#use loc for lat and lng\n",
    "loc = df[['lat','lng']]\n",
    "humidity = df.humidity\n",
    "\n",
    "#create map\n",
    "fig = gmaps.figure(center=(10.0,-5.0),zoom_level=2)\n",
    "heat_layer=gmaps.heatmap_layer(loc,weights=humidity,dissipating=False,max_intensity=300,point_radius=2)\n",
    "fig.add_layer(heat_layer)\n",
    "fig"
   ]
  },
  {
   "cell_type": "markdown",
   "metadata": {},
   "source": [
    " Create new DataFrame fitting weather criteria\n",
    "\n",
    "Narrow down the cities to fit weather conditions.\n",
    "Drop any rows will null values."
   ]
  },
  {
   "cell_type": "code",
   "execution_count": 4,
   "metadata": {},
   "outputs": [
    {
     "data": {
      "text/plain": [
       "572"
      ]
     },
     "execution_count": 4,
     "metadata": {},
     "output_type": "execute_result"
    }
   ],
   "source": [
    "#df.city.count()\n",
    "df = df.dropna()\n",
    "df.city.count()"
   ]
  },
  {
   "cell_type": "markdown",
   "metadata": {},
   "source": [
    " Hotel Map\n",
    "\n",
    "Store into variable named hotel_df.\n",
    "\n",
    "Add a \"Hotel Name\" column to the DataFrame.\n",
    "\n",
    "Set parameters to search for hotels with 5000 meters.\n",
    "\n",
    "Hit the Google Places API for each city's coordinates.\n",
    "\n",
    "Store the first Hotel result into the DataFrame.\n",
    "\n",
    "Plot markers on top of the heatmap."
   ]
  },
  {
   "cell_type": "code",
   "execution_count": 5,
   "metadata": {},
   "outputs": [
    {
     "data": {
      "text/html": [
       "<div>\n",
       "<style scoped>\n",
       "    .dataframe tbody tr th:only-of-type {\n",
       "        vertical-align: middle;\n",
       "    }\n",
       "\n",
       "    .dataframe tbody tr th {\n",
       "        vertical-align: top;\n",
       "    }\n",
       "\n",
       "    .dataframe thead th {\n",
       "        text-align: right;\n",
       "    }\n",
       "</style>\n",
       "<table border=\"1\" class=\"dataframe\">\n",
       "  <thead>\n",
       "    <tr style=\"text-align: right;\">\n",
       "      <th></th>\n",
       "      <th>city</th>\n",
       "      <th>lat</th>\n",
       "      <th>lng</th>\n",
       "      <th>temp</th>\n",
       "      <th>humidity</th>\n",
       "      <th>wind</th>\n",
       "      <th>cloudiness</th>\n",
       "      <th>country</th>\n",
       "      <th>date</th>\n",
       "    </tr>\n",
       "  </thead>\n",
       "  <tbody>\n",
       "    <tr>\n",
       "      <th>168</th>\n",
       "      <td>gat</td>\n",
       "      <td>31.6100</td>\n",
       "      <td>34.7642</td>\n",
       "      <td>72.81</td>\n",
       "      <td>100</td>\n",
       "      <td>7.18</td>\n",
       "      <td>0</td>\n",
       "      <td>IL</td>\n",
       "      <td>Wed Jun  2 15:38:28 2021</td>\n",
       "    </tr>\n",
       "    <tr>\n",
       "      <th>205</th>\n",
       "      <td>arcachon</td>\n",
       "      <td>44.5875</td>\n",
       "      <td>-1.0519</td>\n",
       "      <td>77.32</td>\n",
       "      <td>57</td>\n",
       "      <td>8.05</td>\n",
       "      <td>0</td>\n",
       "      <td>FR</td>\n",
       "      <td>Wed Jun  2 15:38:50 2021</td>\n",
       "    </tr>\n",
       "    <tr>\n",
       "      <th>438</th>\n",
       "      <td>koungou</td>\n",
       "      <td>-12.7336</td>\n",
       "      <td>45.2042</td>\n",
       "      <td>73.11</td>\n",
       "      <td>88</td>\n",
       "      <td>5.70</td>\n",
       "      <td>0</td>\n",
       "      <td>YT</td>\n",
       "      <td>Wed Jun  2 15:41:18 2021</td>\n",
       "    </tr>\n",
       "    <tr>\n",
       "      <th>472</th>\n",
       "      <td>zhanaozen</td>\n",
       "      <td>43.3000</td>\n",
       "      <td>52.8000</td>\n",
       "      <td>78.28</td>\n",
       "      <td>35</td>\n",
       "      <td>5.48</td>\n",
       "      <td>0</td>\n",
       "      <td>KZ</td>\n",
       "      <td>Wed Jun  2 15:42:06 2021</td>\n",
       "    </tr>\n",
       "  </tbody>\n",
       "</table>\n",
       "</div>"
      ],
      "text/plain": [
       "          city      lat      lng   temp  humidity  wind  cloudiness country  \\\n",
       "168        gat  31.6100  34.7642  72.81       100  7.18           0      IL   \n",
       "205   arcachon  44.5875  -1.0519  77.32        57  8.05           0      FR   \n",
       "438    koungou -12.7336  45.2042  73.11        88  5.70           0      YT   \n",
       "472  zhanaozen  43.3000  52.8000  78.28        35  5.48           0      KZ   \n",
       "\n",
       "                         date  \n",
       "168  Wed Jun  2 15:38:28 2021  \n",
       "205  Wed Jun  2 15:38:50 2021  \n",
       "438  Wed Jun  2 15:41:18 2021  \n",
       "472  Wed Jun  2 15:42:06 2021  "
      ]
     },
     "execution_count": 5,
     "metadata": {},
     "output_type": "execute_result"
    }
   ],
   "source": [
    "hotel_df = df[(df.temp<80)&(df.temp>70)&(df.wind<10)&(df.cloudiness==0)].copy()\n",
    "hotel_df"
   ]
  },
  {
   "cell_type": "code",
   "execution_count": 6,
   "metadata": {},
   "outputs": [
    {
     "data": {
      "text/html": [
       "<div>\n",
       "<style scoped>\n",
       "    .dataframe tbody tr th:only-of-type {\n",
       "        vertical-align: middle;\n",
       "    }\n",
       "\n",
       "    .dataframe tbody tr th {\n",
       "        vertical-align: top;\n",
       "    }\n",
       "\n",
       "    .dataframe thead th {\n",
       "        text-align: right;\n",
       "    }\n",
       "</style>\n",
       "<table border=\"1\" class=\"dataframe\">\n",
       "  <thead>\n",
       "    <tr style=\"text-align: right;\">\n",
       "      <th></th>\n",
       "      <th>city</th>\n",
       "      <th>lat</th>\n",
       "      <th>lng</th>\n",
       "      <th>temp</th>\n",
       "      <th>humidity</th>\n",
       "      <th>wind</th>\n",
       "      <th>cloudiness</th>\n",
       "      <th>country</th>\n",
       "      <th>date</th>\n",
       "      <th>Hotel Name</th>\n",
       "    </tr>\n",
       "  </thead>\n",
       "  <tbody>\n",
       "    <tr>\n",
       "      <th>168</th>\n",
       "      <td>gat</td>\n",
       "      <td>31.6100</td>\n",
       "      <td>34.7642</td>\n",
       "      <td>72.81</td>\n",
       "      <td>100</td>\n",
       "      <td>7.18</td>\n",
       "      <td>0</td>\n",
       "      <td>IL</td>\n",
       "      <td>Wed Jun  2 15:38:28 2021</td>\n",
       "      <td></td>\n",
       "    </tr>\n",
       "    <tr>\n",
       "      <th>205</th>\n",
       "      <td>arcachon</td>\n",
       "      <td>44.5875</td>\n",
       "      <td>-1.0519</td>\n",
       "      <td>77.32</td>\n",
       "      <td>57</td>\n",
       "      <td>8.05</td>\n",
       "      <td>0</td>\n",
       "      <td>FR</td>\n",
       "      <td>Wed Jun  2 15:38:50 2021</td>\n",
       "      <td></td>\n",
       "    </tr>\n",
       "    <tr>\n",
       "      <th>438</th>\n",
       "      <td>koungou</td>\n",
       "      <td>-12.7336</td>\n",
       "      <td>45.2042</td>\n",
       "      <td>73.11</td>\n",
       "      <td>88</td>\n",
       "      <td>5.70</td>\n",
       "      <td>0</td>\n",
       "      <td>YT</td>\n",
       "      <td>Wed Jun  2 15:41:18 2021</td>\n",
       "      <td></td>\n",
       "    </tr>\n",
       "    <tr>\n",
       "      <th>472</th>\n",
       "      <td>zhanaozen</td>\n",
       "      <td>43.3000</td>\n",
       "      <td>52.8000</td>\n",
       "      <td>78.28</td>\n",
       "      <td>35</td>\n",
       "      <td>5.48</td>\n",
       "      <td>0</td>\n",
       "      <td>KZ</td>\n",
       "      <td>Wed Jun  2 15:42:06 2021</td>\n",
       "      <td></td>\n",
       "    </tr>\n",
       "  </tbody>\n",
       "</table>\n",
       "</div>"
      ],
      "text/plain": [
       "          city      lat      lng   temp  humidity  wind  cloudiness country  \\\n",
       "168        gat  31.6100  34.7642  72.81       100  7.18           0      IL   \n",
       "205   arcachon  44.5875  -1.0519  77.32        57  8.05           0      FR   \n",
       "438    koungou -12.7336  45.2042  73.11        88  5.70           0      YT   \n",
       "472  zhanaozen  43.3000  52.8000  78.28        35  5.48           0      KZ   \n",
       "\n",
       "                         date Hotel Name  \n",
       "168  Wed Jun  2 15:38:28 2021             \n",
       "205  Wed Jun  2 15:38:50 2021             \n",
       "438  Wed Jun  2 15:41:18 2021             \n",
       "472  Wed Jun  2 15:42:06 2021             "
      ]
     },
     "execution_count": 6,
     "metadata": {},
     "output_type": "execute_result"
    }
   ],
   "source": [
    "hotel_df['Hotel Name'] = ''\n",
    "hotel_df.head()"
   ]
  },
  {
   "cell_type": "code",
   "execution_count": 7,
   "metadata": {},
   "outputs": [],
   "source": [
    "#set params\n",
    "params={\n",
    "    'radius':5000,\n",
    "    'types':'lodging',\n",
    "    'key':g_key\n",
    "}\n",
    "\n",
    "\n",
    "for i,row in hotel_df.iterrows():\n",
    "    \n",
    "    url='https://maps.googleapis.com/maps/api/place/nearbysearch/json?'\n",
    "    params['location'] = f'{row.lat}, {row.lng}'\n",
    "    res = requests.get(url,params).json()\n",
    "    hotel_df.loc[i,'Hotel Name'] = res['results'][0]['name']\n",
    "hotel_df.rename(columns={'city':'City','lat':'Lat','lng':'Lng','country':'Country'},inplace=True)"
   ]
  },
  {
   "cell_type": "code",
   "execution_count": 8,
   "metadata": {},
   "outputs": [],
   "source": [
    "# NOTE: Do not change any of the code in this cell\n",
    "\n",
    "# Using the template add the hotel marks to the heatmap\n",
    "info_box_template = \"\"\"\n",
    "<dl>\n",
    "<dt>Name</dt><dd>{Hotel Name}</dd>\n",
    "<dt>City</dt><dd>{City}</dd>\n",
    "<dt>Country</dt><dd>{Country}</dd>\n",
    "</dl>\n",
    "\"\"\"\n",
    "# Store the DataFrame Row\n",
    "# NOTE: be sure to update with your DataFrame name\n",
    "hotel_info = [info_box_template.format(**row) for index, row in hotel_df.iterrows()]\n",
    "locations = hotel_df[[\"Lat\", \"Lng\"]]"
   ]
  },
  {
   "cell_type": "code",
   "execution_count": 9,
   "metadata": {},
   "outputs": [
    {
     "data": {
      "application/vnd.jupyter.widget-view+json": {
       "model_id": "9a4490d7a8c841e2bfccddc84488027b",
       "version_major": 2,
       "version_minor": 0
      },
      "text/plain": [
       "Figure(layout=FigureLayout(height='420px'))"
      ]
     },
     "metadata": {},
     "output_type": "display_data"
    }
   ],
   "source": [
    "# Add marker layer ontop of heat map\n",
    "marker_layer=gmaps.marker_layer(locations,info_box_content=hotel_info)\n",
    "fig.add_layer(marker_layer)\n",
    "\n",
    "# Display figure\n",
    "fig"
   ]
  },
  {
   "cell_type": "code",
   "execution_count": null,
   "metadata": {},
   "outputs": [],
   "source": []
  }
 ],
 "metadata": {
  "kernelspec": {
   "display_name": "Python 3",
   "language": "python",
   "name": "python3"
  },
  "language_info": {
   "codemirror_mode": {
    "name": "ipython",
    "version": 3
   },
   "file_extension": ".py",
   "mimetype": "text/x-python",
   "name": "python",
   "nbconvert_exporter": "python",
   "pygments_lexer": "ipython3",
   "version": "3.8.5"
  },
  "latex_envs": {
   "LaTeX_envs_menu_present": true,
   "autoclose": false,
   "autocomplete": true,
   "bibliofile": "biblio.bib",
   "cite_by": "apalike",
   "current_citInitial": 1,
   "eqLabelWithNumbers": true,
   "eqNumInitial": 1,
   "hotkeys": {
    "equation": "Ctrl-E",
    "itemize": "Ctrl-I"
   },
   "labels_anchors": false,
   "latex_user_defs": false,
   "report_style_numbering": false,
   "user_envs_cfg": false
  },
  "varInspector": {
   "cols": {
    "lenName": 16,
    "lenType": 16,
    "lenVar": 40
   },
   "kernels_config": {
    "python": {
     "delete_cmd_postfix": "",
     "delete_cmd_prefix": "del ",
     "library": "var_list.py",
     "varRefreshCmd": "print(var_dic_list())"
    },
    "r": {
     "delete_cmd_postfix": ") ",
     "delete_cmd_prefix": "rm(",
     "library": "var_list.r",
     "varRefreshCmd": "cat(var_dic_list()) "
    }
   },
   "types_to_exclude": [
    "module",
    "function",
    "builtin_function_or_method",
    "instance",
    "_Feature"
   ],
   "window_display": false
  }
 },
 "nbformat": 4,
 "nbformat_minor": 2
}
